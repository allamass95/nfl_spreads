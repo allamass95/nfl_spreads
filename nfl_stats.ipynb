{
 "cells": [
  {
   "cell_type": "code",
   "execution_count": 1,
   "metadata": {},
   "outputs": [],
   "source": [
    "import csv\n",
    "import matplotlib.pyplot as plt\n",
    "import requests\n",
    "import pandas as pd\n",
    "from config import gkey\n",
    "import json"
   ]
  },
  {
   "cell_type": "code",
   "execution_count": 2,
   "metadata": {},
   "outputs": [
    {
     "data": {
      "text/html": [
       "<div>\n",
       "<style scoped>\n",
       "    .dataframe tbody tr th:only-of-type {\n",
       "        vertical-align: middle;\n",
       "    }\n",
       "\n",
       "    .dataframe tbody tr th {\n",
       "        vertical-align: top;\n",
       "    }\n",
       "\n",
       "    .dataframe thead th {\n",
       "        text-align: right;\n",
       "    }\n",
       "</style>\n",
       "<table border=\"1\" class=\"dataframe\">\n",
       "  <thead>\n",
       "    <tr style=\"text-align: right;\">\n",
       "      <th></th>\n",
       "      <th>Team</th>\n",
       "      <th>W</th>\n",
       "      <th>L</th>\n",
       "      <th>W-L%</th>\n",
       "    </tr>\n",
       "  </thead>\n",
       "  <tbody>\n",
       "    <tr>\n",
       "      <th>0</th>\n",
       "      <td>New England Patriots*</td>\n",
       "      <td>11</td>\n",
       "      <td>5</td>\n",
       "      <td>0.688</td>\n",
       "    </tr>\n",
       "    <tr>\n",
       "      <th>1</th>\n",
       "      <td>Miami Dolphins</td>\n",
       "      <td>7</td>\n",
       "      <td>9</td>\n",
       "      <td>0.438</td>\n",
       "    </tr>\n",
       "    <tr>\n",
       "      <th>2</th>\n",
       "      <td>Buffalo Bills</td>\n",
       "      <td>6</td>\n",
       "      <td>10</td>\n",
       "      <td>0.375</td>\n",
       "    </tr>\n",
       "    <tr>\n",
       "      <th>3</th>\n",
       "      <td>New York Jets</td>\n",
       "      <td>4</td>\n",
       "      <td>12</td>\n",
       "      <td>0.250</td>\n",
       "    </tr>\n",
       "    <tr>\n",
       "      <th>4</th>\n",
       "      <td>Baltimore Ravens*</td>\n",
       "      <td>10</td>\n",
       "      <td>6</td>\n",
       "      <td>0.625</td>\n",
       "    </tr>\n",
       "  </tbody>\n",
       "</table>\n",
       "</div>"
      ],
      "text/plain": [
       "                    Team   W   L   W-L%\n",
       "0  New England Patriots*  11   5  0.688\n",
       "1         Miami Dolphins   7   9  0.438\n",
       "2          Buffalo Bills   6  10  0.375\n",
       "3          New York Jets   4  12  0.250\n",
       "4      Baltimore Ravens*  10   6  0.625"
      ]
     },
     "execution_count": 2,
     "metadata": {},
     "output_type": "execute_result"
    }
   ],
   "source": [
    "file=('Data Sources/nfl_stats.csv')\n",
    "\n",
    "data=pd.read_csv(file)\n",
    "data=data[['Tm','W','L','W-L%']]\n",
    "data=data.rename(columns={'Tm':'Team'})\n",
    "data=data.dropna(how='any')\n",
    "data['W']=data['W'].astype('int64')\n",
    "data['L']=data['L'].astype('int64')\n",
    "data.head()\n",
    "\n"
   ]
  },
  {
   "cell_type": "code",
   "execution_count": 3,
   "metadata": {
    "scrolled": true
   },
   "outputs": [],
   "source": [
    "new_list=[]\n",
    "data_new=data['Team'].tolist()\n",
    "\n",
    "for x in data_new:\n",
    "    if \"*\" in x:\n",
    "        new_list.append(x[:-1])\n",
    "    elif '+' in x:\n",
    "        new_list.append(x[:-1])\n",
    "    else:\n",
    "        \n",
    "        new_list.append(x)\n",
    "        \n",
    "        \n",
    "        \n",
    "        \n"
   ]
  },
  {
   "cell_type": "code",
   "execution_count": 15,
   "metadata": {},
   "outputs": [
    {
     "data": {
      "text/plain": [
       "['New England Patriots',\n",
       " 'Miami Dolphins',\n",
       " 'Buffalo Bills',\n",
       " 'New York Jets',\n",
       " 'Baltimore Ravens',\n",
       " 'Pittsburgh Steelers',\n",
       " 'Cleveland Browns',\n",
       " 'Cincinnati Bengals',\n",
       " 'Houston Texans',\n",
       " 'Indianapolis Colts',\n",
       " 'Tennessee Titans',\n",
       " 'Jacksonville Jaguars',\n",
       " 'Kansas City Chiefs',\n",
       " 'Los Angeles Chargers',\n",
       " 'Denver Broncos',\n",
       " 'Oakland Raiders',\n",
       " 'Dallas Cowboys',\n",
       " 'Philadelphia Eagles',\n",
       " 'Washington Redskins',\n",
       " 'New York Giants',\n",
       " 'Chicago Bears',\n",
       " 'Minnesota Vikings',\n",
       " 'Green Bay Packers',\n",
       " 'Detroit Lions',\n",
       " 'New Orleans Saints',\n",
       " 'Atlanta Falcons',\n",
       " 'Carolina Panthers',\n",
       " 'Tampa Bay Buccaneers',\n",
       " 'Los Angeles Rams',\n",
       " 'Seattle Seahawks',\n",
       " 'San Francisco 49ers',\n",
       " 'Arizona Cardinals']"
      ]
     },
     "execution_count": 15,
     "metadata": {},
     "output_type": "execute_result"
    }
   ],
   "source": [
    "new_list\n"
   ]
  },
  {
   "cell_type": "code",
   "execution_count": 13,
   "metadata": {},
   "outputs": [
    {
     "data": {
      "text/html": [
       "<div>\n",
       "<style scoped>\n",
       "    .dataframe tbody tr th:only-of-type {\n",
       "        vertical-align: middle;\n",
       "    }\n",
       "\n",
       "    .dataframe tbody tr th {\n",
       "        vertical-align: top;\n",
       "    }\n",
       "\n",
       "    .dataframe thead th {\n",
       "        text-align: right;\n",
       "    }\n",
       "</style>\n",
       "<table border=\"1\" class=\"dataframe\">\n",
       "  <thead>\n",
       "    <tr style=\"text-align: right;\">\n",
       "      <th></th>\n",
       "      <th>Team</th>\n",
       "      <th>W</th>\n",
       "      <th>L</th>\n",
       "      <th>W-L%</th>\n",
       "    </tr>\n",
       "  </thead>\n",
       "  <tbody>\n",
       "    <tr>\n",
       "      <th>0</th>\n",
       "      <td>New England Patriots</td>\n",
       "      <td>11</td>\n",
       "      <td>5</td>\n",
       "      <td>0.688</td>\n",
       "    </tr>\n",
       "    <tr>\n",
       "      <th>1</th>\n",
       "      <td>Miami Dolphins</td>\n",
       "      <td>7</td>\n",
       "      <td>9</td>\n",
       "      <td>0.438</td>\n",
       "    </tr>\n",
       "    <tr>\n",
       "      <th>2</th>\n",
       "      <td>Buffalo Bills</td>\n",
       "      <td>6</td>\n",
       "      <td>10</td>\n",
       "      <td>0.375</td>\n",
       "    </tr>\n",
       "    <tr>\n",
       "      <th>3</th>\n",
       "      <td>New York Jets</td>\n",
       "      <td>4</td>\n",
       "      <td>12</td>\n",
       "      <td>0.250</td>\n",
       "    </tr>\n",
       "    <tr>\n",
       "      <th>4</th>\n",
       "      <td>Baltimore Ravens</td>\n",
       "      <td>10</td>\n",
       "      <td>6</td>\n",
       "      <td>0.625</td>\n",
       "    </tr>\n",
       "  </tbody>\n",
       "</table>\n",
       "</div>"
      ],
      "text/plain": [
       "                   Team   W   L   W-L%\n",
       "0  New England Patriots  11   5  0.688\n",
       "1        Miami Dolphins   7   9  0.438\n",
       "2         Buffalo Bills   6  10  0.375\n",
       "3         New York Jets   4  12  0.250\n",
       "4      Baltimore Ravens  10   6  0.625"
      ]
     },
     "execution_count": 13,
     "metadata": {},
     "output_type": "execute_result"
    }
   ],
   "source": [
    "data['Team']=new_list\n",
    "data.head()"
   ]
  },
  {
   "cell_type": "code",
   "execution_count": 6,
   "metadata": {},
   "outputs": [],
   "source": [
    "fixed_team=data['Team'].sort_values().tolist()\n",
    "data['Team']=fixed_team"
   ]
  },
  {
   "cell_type": "code",
   "execution_count": 12,
   "metadata": {},
   "outputs": [
    {
     "data": {
      "text/html": [
       "<div>\n",
       "<style scoped>\n",
       "    .dataframe tbody tr th:only-of-type {\n",
       "        vertical-align: middle;\n",
       "    }\n",
       "\n",
       "    .dataframe tbody tr th {\n",
       "        vertical-align: top;\n",
       "    }\n",
       "\n",
       "    .dataframe thead th {\n",
       "        text-align: right;\n",
       "    }\n",
       "</style>\n",
       "<table border=\"1\" class=\"dataframe\">\n",
       "  <thead>\n",
       "    <tr style=\"text-align: right;\">\n",
       "      <th></th>\n",
       "      <th>Team</th>\n",
       "      <th>W</th>\n",
       "      <th>L</th>\n",
       "      <th>W-L%</th>\n",
       "    </tr>\n",
       "  </thead>\n",
       "  <tbody>\n",
       "    <tr>\n",
       "      <th>0</th>\n",
       "      <td>Arizona Cardinals</td>\n",
       "      <td>11</td>\n",
       "      <td>5</td>\n",
       "      <td>0.688</td>\n",
       "    </tr>\n",
       "    <tr>\n",
       "      <th>1</th>\n",
       "      <td>Atlanta Falcons</td>\n",
       "      <td>7</td>\n",
       "      <td>9</td>\n",
       "      <td>0.438</td>\n",
       "    </tr>\n",
       "    <tr>\n",
       "      <th>2</th>\n",
       "      <td>Baltimore Ravens</td>\n",
       "      <td>6</td>\n",
       "      <td>10</td>\n",
       "      <td>0.375</td>\n",
       "    </tr>\n",
       "    <tr>\n",
       "      <th>3</th>\n",
       "      <td>Buffalo Bills</td>\n",
       "      <td>4</td>\n",
       "      <td>12</td>\n",
       "      <td>0.250</td>\n",
       "    </tr>\n",
       "    <tr>\n",
       "      <th>4</th>\n",
       "      <td>Carolina Panthers</td>\n",
       "      <td>10</td>\n",
       "      <td>6</td>\n",
       "      <td>0.625</td>\n",
       "    </tr>\n",
       "  </tbody>\n",
       "</table>\n",
       "</div>"
      ],
      "text/plain": [
       "                Team   W   L   W-L%\n",
       "0  Arizona Cardinals  11   5  0.688\n",
       "1    Atlanta Falcons   7   9  0.438\n",
       "2   Baltimore Ravens   6  10  0.375\n",
       "3      Buffalo Bills   4  12  0.250\n",
       "4  Carolina Panthers  10   6  0.625"
      ]
     },
     "execution_count": 12,
     "metadata": {},
     "output_type": "execute_result"
    }
   ],
   "source": [
    "data.head()"
   ]
  },
  {
   "cell_type": "code",
   "execution_count": 11,
   "metadata": {},
   "outputs": [
    {
     "data": {
      "image/png": "[encoded data removed]",
      "text/plain": [
       "<Figure size 432x288 with 1 Axes>"
      ]
     },
     "metadata": {
      "needs_background": "light"
     },
     "output_type": "display_data"
    }
   ],
   "source": [
    "plt.scatter(data['W'],data['L'],marker='*',color='red')\n",
    "plt.show\n",
    "plt.grid()"
   ]
  },
  {
   "cell_type": "code",
   "execution_count": null,
   "metadata": {},
   "outputs": [],
   "source": []
  }
 ],
 "metadata": {
  "kernelspec": {
   "display_name": "Python 3",
   "language": "python",
   "name": "python3"
  },
  "language_info": {
   "codemirror_mode": {
    "name": "ipython",
    "version": 3
   },
   "file_extension": ".py",
   "mimetype": "text/x-python",
   "name": "python",
   "nbconvert_exporter": "python",
   "pygments_lexer": "ipython3",
   "version": "3.7.3"
  }
 },
 "nbformat": 4,
 "nbformat_minor": 2
}
